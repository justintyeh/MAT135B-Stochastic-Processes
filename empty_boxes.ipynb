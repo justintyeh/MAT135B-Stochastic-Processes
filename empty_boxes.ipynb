{
  "nbformat": 4,
  "nbformat_minor": 0,
  "metadata": {
    "colab": {
      "provenance": [],
      "authorship_tag": "ABX9TyOCL2QX9dr0kbKNCF3U+NIx",
      "include_colab_link": true
    },
    "kernelspec": {
      "name": "python3",
      "display_name": "Python 3"
    },
    "language_info": {
      "name": "python"
    }
  },
  "cells": [
    {
      "cell_type": "markdown",
      "metadata": {
        "id": "view-in-github",
        "colab_type": "text"
      },
      "source": [
        "<a href=\"https://colab.research.google.com/github/justintyeh/MAT135B-Stochastic-Processes/blob/main/empty_boxes.ipynb\" target=\"_parent\"><img src=\"https://colab.research.google.com/assets/colab-badge.svg\" alt=\"Open In Colab\"/></a>"
      ]
    },
    {
      "cell_type": "markdown",
      "source": [
        "# Empty Boxes\n",
        "\n",
        "runtime error has been significantly improved by using own sum_digits function rather than sum(s==0). Improved from 7m27s to 49s but matlab is instantaneous. Some sources on google say that matlab's sum function uses multithreading to speed up."
      ],
      "metadata": {
        "id": "45TadAYJKqyJ"
      }
    },
    {
      "cell_type": "code",
      "source": [
        "import numpy as np\n",
        "import matplotlib.pyplot as plt\n",
        "\n",
        "m = 10000 # no. of balls\n",
        "n = 20000 # no. of boxes\n",
        "\n",
        "s = np.zeros(n)\n",
        "z = np.zeros(m)\n",
        "\n",
        "def sum_digits(arr, digit):\n",
        "  res = 0\n",
        "  for n in arr:\n",
        "    if n == digit:\n",
        "      res += 1\n",
        "  return res\n",
        "\n",
        "for i in range(m):\n",
        "  ind = np.random.randint(0,n, size=1)\n",
        "  s[ind] += 1\n",
        "  z[i] = sum_digits(s,0)\n",
        "    \n",
        " \n",
        "t = np.linspace(0,m, num=m)\n",
        "\n",
        "\n",
        "\n",
        "plt.plot(t, z/n)\n",
        "plt.title('Empty Boxes')\n",
        "plt.ylabel(f'no. of empty boxes')\n",
        "plt.xlabel(f'no. of balls n = {n}')\n",
        "#plt.rcParams['figure.figsize'] = [15, 10]"
      ],
      "metadata": {
        "colab": {
          "base_uri": "https://localhost:8080/",
          "height": 313
        },
        "id": "xW4BOp1uaqwG",
        "outputId": "0a8f0de3-7bf5-40d4-e4dd-ba45629063fc"
      },
      "execution_count": 5,
      "outputs": [
        {
          "output_type": "execute_result",
          "data": {
            "text/plain": [
              "Text(0.5, 0, 'no. of balls n = 20000')"
            ]
          },
          "metadata": {},
          "execution_count": 5
        },
        {
          "output_type": "display_data",
          "data": {
            "text/plain": [
              "<Figure size 432x288 with 1 Axes>"
            ],
            "image/png": "[encoded data removed]"
          },
          "metadata": {
            "needs_background": "light"
          }
        }
      ]
    },
    {
      "cell_type": "code",
      "source": [],
      "metadata": {
        "id": "i51eouC8fOoS"
      },
      "execution_count": null,
      "outputs": []
    }
  ]
}