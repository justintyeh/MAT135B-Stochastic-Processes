{
  "nbformat": 4,
  "nbformat_minor": 0,
  "metadata": {
    "colab": {
      "provenance": [],
      "toc_visible": true,
      "authorship_tag": "ABX9TyO3hLxmUV+YVJu31tCREcQX",
      "include_colab_link": true
    },
    "kernelspec": {
      "name": "python3",
      "display_name": "Python 3"
    },
    "language_info": {
      "name": "python"
    }
  },
  "cells": [
    {
      "cell_type": "markdown",
      "metadata": {
        "id": "view-in-github",
        "colab_type": "text"
      },
      "source": [
        "<a href=\"https://colab.research.google.com/github/justintyeh/MAT135B-Stochastic-Processes/blob/main/empty_boxes.ipynb\" target=\"_parent\"><img src=\"https://colab.research.google.com/assets/colab-badge.svg\" alt=\"Open In Colab\"/></a>"
      ]
    },
    {
      "cell_type": "markdown",
      "source": [
        "# Empty Boxes\n",
        "\n",
        "\n",
        "There is a runtime inefficienncy with python sum() function. Matlab was instantaneous. However python took 7m27s. I suspect python sum function may run in linear time. I looked online and some said matlabs sum() uses multithreading"
      ],
      "metadata": {
        "id": "45TadAYJKqyJ"
      }
    },
    {
      "cell_type": "code",
      "execution_count": 26,
      "metadata": {
        "colab": {
          "base_uri": "https://localhost:8080/",
          "height": 283
        },
        "id": "k-xFqIzqCbLC",
        "outputId": "f8860b4f-68d2-4d1f-f140-3b32b8c9a8da"
      },
      "outputs": [
        {
          "output_type": "execute_result",
          "data": {
            "text/plain": [
              "[<matplotlib.lines.Line2D at 0x7f1389114c70>]"
            ]
          },
          "metadata": {},
          "execution_count": 26
        },
        {
          "output_type": "display_data",
          "data": {
            "text/plain": [
              "<Figure size 432x288 with 1 Axes>"
            ],
            "image/png": "[encoded data removed]"
          },
          "metadata": {
            "needs_background": "light"
          }
        }
      ],
      "source": [
        "import numpy as np\n",
        "import matplotlib.pyplot as plt\n",
        "\n",
        "m = 10000 # no. of balls\n",
        "n = 20000 # no. of boxes\n",
        "\n",
        "s = np.zeros(n)\n",
        "z = np.zeros(n)\n",
        "\n",
        "for i in range(1,m):\n",
        "  ind = np.random.randint(0,n, size=1)\n",
        "  s[ind] = s[ind] + 1\n",
        "  z[i] = sum(s==0)\n",
        "    \n",
        " \n",
        "t = np.linspace(0,n, num=n)\n",
        "\n",
        "plt.plot(t, z/n)\n",
        " \n",
        "# plot(t, z/n, 'Color', [0,0,1], 'LineWidth',2);\n",
        "\n",
        "# hold on;\n",
        "\n",
        "# plot(t, exp(-m/n)+zeros(1,m), 'Color', [0,0,0]);\n",
        "# % plot(t, p1+zeros(1,n), 'Color', [0.5,0.5,0.5]);\n",
        "# % plot(t, p2+zeros(1,n), 'Color', [0.5,0.5,0.5]);\n",
        " \n",
        "# str=strcat('n', sprintf('=%d', n), ' m', sprintf('=%d', m));\n",
        "# legend(str,'FontSize',10, 'Location','northeast');\n",
        "\n",
        "# xlabel('no. of balls','FontSize',10);\n",
        "# ylabel('no. of empty boxes','FontSize',10);\n",
        "\n",
        "# title('Empty boxes','FontSize',10);\n",
        "# hold off;"
      ]
    }
  ]
}